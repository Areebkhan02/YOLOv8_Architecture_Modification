{
 "cells": [
  {
   "cell_type": "code",
   "execution_count": 1,
   "metadata": {},
   "outputs": [
    {
     "name": "stdout",
     "output_type": "stream",
     "text": [
      "/home/areebadnan/Areeb_code/work/Atheritia\n",
      "/home/areebadnan/Areeb_code/work/Atheritia/ultralytics\n"
     ]
    },
    {
     "name": "stderr",
     "output_type": "stream",
     "text": [
      "/home/areebadnan/Areeb_Python_Environments/yolo_env1/lib/python3.10/site-packages/IPython/core/magics/osm.py:417: UserWarning: This is now an optional IPython functionality, setting dhist requires you to install the `pickleshare` library.\n",
      "  self.shell.db['dhist'] = compress_dhist(dhist)[-100:]\n"
     ]
    }
   ],
   "source": [
    "%pwd\n",
    "%cd ..\n",
    "%cd ultralytics"
   ]
  },
  {
   "cell_type": "code",
   "execution_count": 2,
   "metadata": {},
   "outputs": [
    {
     "name": "stderr",
     "output_type": "stream",
     "text": [
      "/home/areebadnan/Areeb_code/work/Atheritia/ultralytics/ultralytics/nn/tasks.py:785: FutureWarning: You are using `torch.load` with `weights_only=False` (the current default value), which uses the default pickle module implicitly. It is possible to construct malicious pickle data which will execute arbitrary code during unpickling (See https://github.com/pytorch/pytorch/blob/main/SECURITY.md#untrusted-models for more details). In a future release, the default value for `weights_only` will be flipped to `True`. This limits the functions that could be executed during unpickling. Arbitrary objects will no longer be allowed to be loaded via this mode unless they are explicitly allowlisted by the user via `torch.serialization.add_safe_globals`. We recommend you start setting `weights_only=True` for any use case where you don't have full control of the loaded file. Please open an issue on GitHub for any issues related to this experimental feature.\n",
      "  ckpt = torch.load(file, map_location=\"cpu\")\n"
     ]
    },
    {
     "name": "stdout",
     "output_type": "stream",
     "text": [
      "WARNING ⚠️ The file '/home/areebadnan/Areeb_code/work/Atheritia/All_models/Large/14layers_freeze_3heads_merged_retrain.pt' appears to be improperly saved or formatted. For optimal results, use model.save('filename.pt') to correctly save YOLO models.\n"
     ]
    }
   ],
   "source": [
    "from ultralytics import YOLO\n",
    "import torch\n",
    "import copy\n",
    "# Load a model\n",
    "model = YOLO(\"/home/areebadnan/Areeb_code/work/Atheritia/All_models/Large/14layers_freeze_3heads_merged_retrain.pt\")"
   ]
  },
  {
   "cell_type": "code",
   "execution_count": 3,
   "metadata": {},
   "outputs": [
    {
     "name": "stdout",
     "output_type": "stream",
     "text": [
      "Ultralytics YOLOv8.2.55 🚀 Python-3.10.12 torch-2.4.0+cu124 CUDA:0 (NVIDIA GeForce RTX 4060 Laptop GPU, 7721MiB)\n"
     ]
    },
    {
     "name": "stderr",
     "output_type": "stream",
     "text": [
      "\u001b[34m\u001b[1mval: \u001b[0mScanning /home/areebadnan/Areeb_code/work/Atheritia/Datasets/3heads_merged_dataset/47_37_logos_dataset/labels.cache... 19006 images, 314 backgrounds, 0 corrupt: 100%|██████████| 19006/19006 [00:00<?, ?it/s]"
     ]
    },
    {
     "name": "stdout",
     "output_type": "stream",
     "text": [
      "\u001b[34m\u001b[1mval: \u001b[0mWARNING ⚠️ /home/areebadnan/Areeb_code/work/Atheritia/Datasets/3heads_merged_dataset/47_37_logos_dataset/images/62f12d2f0df46756e00a0ee3_33.jpg: 1 duplicate labels removed\n",
      "\u001b[34m\u001b[1mval: \u001b[0mWARNING ⚠️ /home/areebadnan/Areeb_code/work/Atheritia/Datasets/3heads_merged_dataset/47_37_logos_dataset/images/62f12d2f0df46756e00a0ee3_42.jpg: 1 duplicate labels removed\n",
      "\u001b[34m\u001b[1mval: \u001b[0mWARNING ⚠️ /home/areebadnan/Areeb_code/work/Atheritia/Datasets/3heads_merged_dataset/47_37_logos_dataset/images/648496fe4ba22152985081d1_1592.jpg: 4 duplicate labels removed\n",
      "\u001b[34m\u001b[1mval: \u001b[0mWARNING ⚠️ /home/areebadnan/Areeb_code/work/Atheritia/Datasets/3heads_merged_dataset/47_37_logos_dataset/images/648496fe4ba22152985081d1_1601.jpg: 4 duplicate labels removed\n",
      "\u001b[34m\u001b[1mval: \u001b[0mWARNING ⚠️ /home/areebadnan/Areeb_code/work/Atheritia/Datasets/3heads_merged_dataset/47_37_logos_dataset/images/648496fe4ba22152985081d1_1606.jpg: 4 duplicate labels removed\n"
     ]
    },
    {
     "name": "stderr",
     "output_type": "stream",
     "text": [
      "\n",
      "                 Class     Images  Instances      Box(P          R      mAP50  mAP50-95): 100%|██████████| 1188/1188 [13:52<00:00,  1.43it/s]\n"
     ]
    },
    {
     "name": "stdout",
     "output_type": "stream",
     "text": [
      "                   all      19006      32761   0.000353   0.000639    0.00018   9.67e-05\n",
      "                     0       1136       1605          0          0          0          0\n",
      "                     1        278        281          0          0          0          0\n",
      "                     2        355        407          0          0          0          0\n",
      "                     3        755        777          0          0          0          0\n",
      "                     4       1407       1928    0.00269    0.00363    0.00135   0.000423\n",
      "                     5        263        530          0          0          0          0\n",
      "                     6        673       2060          0          0          0          0\n",
      "                     7         27         27          0          0          0          0\n",
      "                     8        596       1839          0          0          0          0\n",
      "                     9        967        978    0.00421    0.00511    0.00211    0.00106\n",
      "                    10        357        382          0          0          0          0\n",
      "                    11        385        571          0          0          0          0\n",
      "                    12        164        251          0          0          0          0\n",
      "                    13        308        308          0          0          0          0\n",
      "                    14        423        632          0          0          0          0\n",
      "                    15        341        481          0          0          0          0\n",
      "                    16        435        531          0          0          0          0\n",
      "                    17        156        185          0          0          0          0\n",
      "                    18       2049       2058          0          0          0          0\n",
      "                    19       1004       1120          0          0          0          0\n",
      "                    20        366        535    0.00532     0.0131    0.00277    0.00181\n",
      "                    21        998       1417          0          0          0          0\n",
      "                    22        219        249          0          0          0          0\n",
      "                    23        313        325          0          0          0          0\n",
      "                    24       1116       1553          0          0          0          0\n",
      "                    25        980       2209          0          0          0          0\n",
      "                    26        682       1643   0.000831    0.00183   0.000418   0.000292\n",
      "                    27        570        826          0          0          0          0\n",
      "                    28        250        322          0          0          0          0\n",
      "                    29       1807       2397          0          0          0          0\n",
      "                    30        558        747          0          0          0          0\n",
      "                    31        200        503          0          0          0          0\n",
      "                    32        966       1158          0          0          0          0\n",
      "                    33        159        317          0          0          0          0\n",
      "                    34        604        710          0          0          0          0\n",
      "                    35        569        576          0          0          0          0\n",
      "                    36        313        323          0          0          0          0\n",
      "Speed: 0.2ms preprocess, 42.6ms inference, 0.0ms loss, 0.2ms postprocess per image\n",
      "Results saved to \u001b[1m/home/areebadnan/Areeb_code/work/Atheritia/Datasets/3heads_merged_dataset/47_37_logos_dataset/val_iterations/val3_640_merged_model2\u001b[0m\n"
     ]
    }
   ],
   "source": [
    "# Validate with a custom dataset\n",
    "#metrics = model.val(data=\"/home/areebadnan/Areeb_code/work/Atheritia/Datasets/47_logos_dataset/10_classes_final/final/split2/data.yaml\", project = '/home/areebadnan/Areeb_code/work/Atheritia/Datasets/47_logos_dataset/10_classes_final/final/split2/test/val_iterations', name = 'val7_648_3merged_model', imgsz=648, conf=0.1)\n",
    "\n",
    "\n",
    "metrics = model.val(data=\"/home/areebadnan/Areeb_code/work/Atheritia/Datasets/3heads_merged_dataset/47_37_logos_dataset/data.yaml\", project = '/home/areebadnan/Areeb_code/work/Atheritia/Datasets/3heads_merged_dataset/47_37_logos_dataset/val_iterations/', name = 'val3_640_merged_model', imgsz=640, conf=0.1)\n",
    "\n",
    "\n"
   ]
  },
  {
   "cell_type": "code",
   "execution_count": 6,
   "metadata": {},
   "outputs": [
    {
     "name": "stdout",
     "output_type": "stream",
     "text": [
      "Confusion matrix saved to confusion_matrix.csv\n"
     ]
    }
   ],
   "source": [
    "import numpy as np\n",
    "\n",
    "# Get confusion matrix\n",
    "confusion_matrix = metrics.confusion_matrix.matrix\n",
    "\n",
    "# Save confusion matrix to a CSV file\n",
    "np.savetxt(\"/home/areebadnan/Areeb_code/work/Atheritia/Datasets/3heads_merged_dataset/47_37_logos_dataset/val_iterations/val3_640_merged_model2/confusion_matrix.csv\", confusion_matrix, delimiter=\",\", fmt=\"%d\")\n",
    "\n",
    "print(\"Confusion matrix saved to confusion_matrix.csv\")"
   ]
  },
  {
   "cell_type": "code",
   "execution_count": 7,
   "metadata": {},
   "outputs": [],
   "source": [
    "array = confusion_matrix / ((confusion_matrix.sum(0).reshape(1, -1) + 1e-9))  # normalize columns\n",
    "np.savetxt(\"/home/areebadnan/Areeb_code/work/Atheritia/Datasets/3heads_merged_dataset/47_37_logos_dataset/val_iterations/val3_640_merged_model2/confusion_matrix_normalized.csv\", array, delimiter=\",\", fmt=\"%.2f\")\n",
    "        #array[array < 0.005] = np.nan  # don't annotate (would appear as 0.00)"
   ]
  },
  {
   "cell_type": "code",
   "execution_count": null,
   "metadata": {},
   "outputs": [],
   "source": []
  }
 ],
 "metadata": {
  "kernelspec": {
   "display_name": "yolo_env1",
   "language": "python",
   "name": "python3"
  },
  "language_info": {
   "codemirror_mode": {
    "name": "ipython",
    "version": 3
   },
   "file_extension": ".py",
   "mimetype": "text/x-python",
   "name": "python",
   "nbconvert_exporter": "python",
   "pygments_lexer": "ipython3",
   "version": "3.10.12"
  }
 },
 "nbformat": 4,
 "nbformat_minor": 2
}

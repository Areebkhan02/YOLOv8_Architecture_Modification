{
 "cells": [
  {
   "cell_type": "code",
   "execution_count": 2,
   "metadata": {},
   "outputs": [
    {
     "name": "stdout",
     "output_type": "stream",
     "text": [
      "Cloning into 'ultralytics'...\n",
      "remote: Enumerating objects: 42361, done.\u001b[K\n",
      "remote: Counting objects: 100% (1928/1928), done.\u001b[K\n",
      "remote: Compressing objects: 100% (1024/1024), done.\u001b[K\n",
      "remote: Total 42361 (delta 1222), reused 1448 (delta 895), pack-reused 40433 (from 1)\u001b[K\n",
      "Receiving objects: 100% (42361/42361), 32.27 MiB | 1.56 MiB/s, done.\n",
      "Resolving deltas: 100% (31181/31181), done.\n"
     ]
    }
   ],
   "source": [
    "!git clone https://github.com/ultralytics/ultralytics"
   ]
  },
  {
   "cell_type": "code",
   "execution_count": null,
   "metadata": {},
   "outputs": [],
   "source": []
  }
 ],
 "metadata": {
  "kernelspec": {
   "display_name": "yolo_env1",
   "language": "python",
   "name": "python3"
  },
  "language_info": {
   "codemirror_mode": {
    "name": "ipython",
    "version": 3
   },
   "file_extension": ".py",
   "mimetype": "text/x-python",
   "name": "python",
   "nbconvert_exporter": "python",
   "pygments_lexer": "ipython3",
   "version": "3.10.12"
  }
 },
 "nbformat": 4,
 "nbformat_minor": 2
}
